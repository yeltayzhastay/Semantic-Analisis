{
 "cells": [
  {
   "cell_type": "code",
   "execution_count": 1,
   "metadata": {},
   "outputs": [],
   "source": [
    "import pandas as pd\n",
    "import numpy as np\n",
    "\n",
    "import seaborn as sns\n",
    "import matplotlib.pyplot as plt\n",
    "\n",
    "from sklearn.linear_model import LogisticRegression\n",
    "from sklearn.neighbors import KNeighborsClassifier\n",
    "from sklearn.svm import SVC\n",
    "from sklearn.naive_bayes import MultinomialNB, BernoulliNB\n",
    "from sklearn.tree import DecisionTreeClassifier\n",
    "from sklearn.ensemble import RandomForestClassifier\n",
    "\n",
    "from sklearn.feature_extraction.text import TfidfVectorizer\n",
    "from sklearn.metrics import accuracy_score, precision_score, recall_score, f1_score, confusion_matrix\n",
    "from sklearn.model_selection import train_test_split"
   ]
  },
  {
   "cell_type": "code",
   "execution_count": 2,
   "metadata": {},
   "outputs": [
    {
     "name": "stderr",
     "output_type": "stream",
     "text": [
      "c:\\users\\yelzha\\appdata\\local\\programs\\python\\python37\\lib\\site-packages\\ipykernel_launcher.py:1: ParserWarning: Falling back to the 'python' engine because the 'c' engine does not support regex separators (separators > 1 char and different from '\\s+' are interpreted as regex); you can avoid this warning by specifying engine='python'.\n",
      "  \"\"\"Entry point for launching an IPython kernel.\n",
      "c:\\users\\yelzha\\appdata\\local\\programs\\python\\python37\\lib\\site-packages\\ipykernel_launcher.py:3: ParserWarning: Falling back to the 'python' engine because the 'c' engine does not support regex separators (separators > 1 char and different from '\\s+' are interpreted as regex); you can avoid this warning by specifying engine='python'.\n",
      "  This is separate from the ipykernel package so we can avoid doing imports until\n"
     ]
    }
   ],
   "source": [
    "c = pd.read_csv('dataset/Crime.txt', sep='{}', encoding='utf8')\n",
    "c['label'] = 'Crime'\n",
    "nc = pd.read_csv('dataset/NotCrime.txt', sep='{}', encoding='utf8')\n",
    "nc['label'] = 'NotCrime'"
   ]
  },
  {
   "cell_type": "code",
   "execution_count": 3,
   "metadata": {},
   "outputs": [
    {
     "data": {
      "text/html": [
       "<div>\n",
       "<style scoped>\n",
       "    .dataframe tbody tr th:only-of-type {\n",
       "        vertical-align: middle;\n",
       "    }\n",
       "\n",
       "    .dataframe tbody tr th {\n",
       "        vertical-align: top;\n",
       "    }\n",
       "\n",
       "    .dataframe thead th {\n",
       "        text-align: right;\n",
       "    }\n",
       "</style>\n",
       "<table border=\"1\" class=\"dataframe\">\n",
       "  <thead>\n",
       "    <tr style=\"text-align: right;\">\n",
       "      <th></th>\n",
       "      <th>text</th>\n",
       "      <th>label</th>\n",
       "    </tr>\n",
       "  </thead>\n",
       "  <tbody>\n",
       "    <tr>\n",
       "      <th>0</th>\n",
       "      <td>Она ушла от мужа. Он убил их детей. Еще один д...</td>\n",
       "      <td>Crime</td>\n",
       "    </tr>\n",
       "    <tr>\n",
       "      <th>1</th>\n",
       "      <td>Государственные обвинители говорят, что почти ...</td>\n",
       "      <td>Crime</td>\n",
       "    </tr>\n",
       "    <tr>\n",
       "      <th>2</th>\n",
       "      <td>«Мы думали, что умрем», - сказал один из студе...</td>\n",
       "      <td>Crime</td>\n",
       "    </tr>\n",
       "    <tr>\n",
       "      <th>3</th>\n",
       "      <td>По данным полиции, подозреваемый был задержан ...</td>\n",
       "      <td>Crime</td>\n",
       "    </tr>\n",
       "    <tr>\n",
       "      <th>4</th>\n",
       "      <td>Пострадавшие, которые теперь уже взрослые, был...</td>\n",
       "      <td>Crime</td>\n",
       "    </tr>\n",
       "    <tr>\n",
       "      <th>...</th>\n",
       "      <td>...</td>\n",
       "      <td>...</td>\n",
       "    </tr>\n",
       "    <tr>\n",
       "      <th>3406</th>\n",
       "      <td>Свадебные планы - это общение. Доставать госте...</td>\n",
       "      <td>NotCrime</td>\n",
       "    </tr>\n",
       "    <tr>\n",
       "      <th>3407</th>\n",
       "      <td>Сегодня доступно множество различных продуктов...</td>\n",
       "      <td>NotCrime</td>\n",
       "    </tr>\n",
       "    <tr>\n",
       "      <th>3408</th>\n",
       "      <td>Комфортная итальянская еда Сандро отражает усп...</td>\n",
       "      <td>NotCrime</td>\n",
       "    </tr>\n",
       "    <tr>\n",
       "      <th>3409</th>\n",
       "      <td>Кто из вас подумает о том, чтобы поделиться те...</td>\n",
       "      <td>NotCrime</td>\n",
       "    </tr>\n",
       "    <tr>\n",
       "      <th>3410</th>\n",
       "      <td>«« Я буду вечно благодарен 11 мужчинам и одной...</td>\n",
       "      <td>NotCrime</td>\n",
       "    </tr>\n",
       "  </tbody>\n",
       "</table>\n",
       "<p>6086 rows × 2 columns</p>\n",
       "</div>"
      ],
      "text/plain": [
       "                                                   text     label\n",
       "0     Она ушла от мужа. Он убил их детей. Еще один д...     Crime\n",
       "1     Государственные обвинители говорят, что почти ...     Crime\n",
       "2     «Мы думали, что умрем», - сказал один из студе...     Crime\n",
       "3     По данным полиции, подозреваемый был задержан ...     Crime\n",
       "4     Пострадавшие, которые теперь уже взрослые, был...     Crime\n",
       "...                                                 ...       ...\n",
       "3406  Свадебные планы - это общение. Доставать госте...  NotCrime\n",
       "3407  Сегодня доступно множество различных продуктов...  NotCrime\n",
       "3408  Комфортная итальянская еда Сандро отражает усп...  NotCrime\n",
       "3409  Кто из вас подумает о том, чтобы поделиться те...  NotCrime\n",
       "3410  «« Я буду вечно благодарен 11 мужчинам и одной...  NotCrime\n",
       "\n",
       "[6086 rows x 2 columns]"
      ]
     },
     "execution_count": 3,
     "metadata": {},
     "output_type": "execute_result"
    }
   ],
   "source": [
    "df = pd.concat([c, nc])\n",
    "labels = ['Crime', 'NotCrime']\n",
    "df"
   ]
  },
  {
   "cell_type": "code",
   "execution_count": 4,
   "metadata": {},
   "outputs": [
    {
     "data": {
      "text/plain": [
       "(4868,)"
      ]
     },
     "execution_count": 4,
     "metadata": {},
     "output_type": "execute_result"
    }
   ],
   "source": [
    "X_train, X_test, y_train, y_test = train_test_split(df['text'], df['label'], random_state=40, test_size = 0.2)\n",
    "X_train.shape"
   ]
  },
  {
   "cell_type": "code",
   "execution_count": 5,
   "metadata": {},
   "outputs": [],
   "source": [
    "from sklearn.metrics import classification_report, confusion_matrix\n",
    "\n",
    "def plot_classification_report(classificationReport,\n",
    "                               title='Classification report'):\n",
    "    df = pd.DataFrame(classificationReport).T.iloc[:,:3]\n",
    "    df.style.background_gradient(cmap='viridis',\n",
    "                             subset=pd.IndexSlice['0':'9', :'f1-score'])\n",
    "    return df"
   ]
  },
  {
   "cell_type": "code",
   "execution_count": 6,
   "metadata": {},
   "outputs": [
    {
     "name": "stdout",
     "output_type": "stream",
     "text": [
      "(4868, 8004)\n",
      "(1218, 8004)\n"
     ]
    }
   ],
   "source": [
    "vectorizer = TfidfVectorizer(lowercase=True, max_df=0.1, min_df=0.0004)\n",
    "X_train_vectorized = vectorizer.fit_transform(X_train)\n",
    "X_test_vectorized = vectorizer.transform(X_test)\n",
    "print(X_train_vectorized.shape)\n",
    "print(X_test_vectorized.shape)"
   ]
  },
  {
   "cell_type": "code",
   "execution_count": 7,
   "metadata": {},
   "outputs": [
    {
     "name": "stderr",
     "output_type": "stream",
     "text": [
      "c:\\users\\yelzha\\appdata\\local\\programs\\python\\python37\\lib\\site-packages\\sklearn\\linear_model\\logistic.py:433: FutureWarning: Default solver will be changed to 'lbfgs' in 0.22. Specify a solver to silence this warning.\n",
      "  FutureWarning)\n"
     ]
    },
    {
     "data": {
      "image/png": "[encoded data removed]",
      "text/plain": [
       "<Figure size 432x288 with 1 Axes>"
      ]
     },
     "metadata": {
      "needs_background": "light"
     },
     "output_type": "display_data"
    },
    {
     "data": {
      "image/png": "[encoded data removed]",
      "text/plain": [
       "<Figure size 432x288 with 1 Axes>"
      ]
     },
     "metadata": {
      "needs_background": "light"
     },
     "output_type": "display_data"
    }
   ],
   "source": [
    "model = LogisticRegression()\n",
    "model.fit(X_train_vectorized, y_train)\n",
    "prediction = model.predict(X_test_vectorized)\n",
    "\n",
    "sns.heatmap(plot_classification_report(classification_report(y_test, prediction, output_dict=True)),\n",
    "            square=False, annot=True, cbar=False, cmap=\"YlGnBu\")\n",
    "plt.show()\n",
    "sns.heatmap(confusion_matrix(y_test, prediction), square=False, annot=True, cbar=False, cmap=\"YlGnBu\")\n",
    "plt.show()"
   ]
  },
  {
   "cell_type": "code",
   "execution_count": 8,
   "metadata": {},
   "outputs": [
    {
     "data": {
      "image/png": "[encoded data removed]",
      "text/plain": [
       "<Figure size 432x288 with 1 Axes>"
      ]
     },
     "metadata": {
      "needs_background": "light"
     },
     "output_type": "display_data"
    },
    {
     "data": {
      "image/png": "[encoded data removed]",
      "text/plain": [
       "<Figure size 432x288 with 1 Axes>"
      ]
     },
     "metadata": {
      "needs_background": "light"
     },
     "output_type": "display_data"
    }
   ],
   "source": [
    "model = KNeighborsClassifier()\n",
    "model.fit(X_train_vectorized, y_train)\n",
    "prediction = model.predict(X_test_vectorized)\n",
    "\n",
    "sns.heatmap(plot_classification_report(classification_report(y_test, prediction, output_dict=True)),\n",
    "            square=False, annot=True, cbar=False, cmap=\"YlGnBu\")\n",
    "plt.show()\n",
    "sns.heatmap(confusion_matrix(y_test, prediction), square=False, annot=True, cbar=False, cmap=\"YlGnBu\")\n",
    "plt.show()"
   ]
  },
  {
   "cell_type": "code",
   "execution_count": 9,
   "metadata": {},
   "outputs": [
    {
     "name": "stderr",
     "output_type": "stream",
     "text": [
      "c:\\users\\yelzha\\appdata\\local\\programs\\python\\python37\\lib\\site-packages\\sklearn\\svm\\base.py:196: FutureWarning: The default value of gamma will change from 'auto' to 'scale' in version 0.22 to account better for unscaled features. Set gamma explicitly to 'auto' or 'scale' to avoid this warning.\n",
      "  \"avoid this warning.\", FutureWarning)\n",
      "c:\\users\\yelzha\\appdata\\local\\programs\\python\\python37\\lib\\site-packages\\sklearn\\metrics\\classification.py:1143: UndefinedMetricWarning: Precision and F-score are ill-defined and being set to 0.0 in labels with no predicted samples.\n",
      "  'precision', 'predicted', average, warn_for)\n"
     ]
    },
    {
     "data": {
      "image/png": "[encoded data removed]",
      "text/plain": [
       "<Figure size 432x288 with 1 Axes>"
      ]
     },
     "metadata": {
      "needs_background": "light"
     },
     "output_type": "display_data"
    },
    {
     "data": {
      "image/png": "[encoded data removed]",
      "text/plain": [
       "<Figure size 432x288 with 1 Axes>"
      ]
     },
     "metadata": {
      "needs_background": "light"
     },
     "output_type": "display_data"
    }
   ],
   "source": [
    "model = SVC()\n",
    "model.fit(X_train_vectorized, y_train)\n",
    "prediction = model.predict(X_test_vectorized)\n",
    "\n",
    "sns.heatmap(plot_classification_report(classification_report(y_test, prediction, output_dict=True)),\n",
    "            square=False, annot=True, cbar=False, cmap=\"YlGnBu\")\n",
    "plt.show()\n",
    "sns.heatmap(confusion_matrix(y_test, prediction), square=False, annot=True, cbar=False, cmap=\"YlGnBu\")\n",
    "plt.show()"
   ]
  },
  {
   "cell_type": "code",
   "execution_count": 10,
   "metadata": {},
   "outputs": [
    {
     "data": {
      "image/png": "[encoded data removed]",
      "text/plain": [
       "<Figure size 432x288 with 1 Axes>"
      ]
     },
     "metadata": {
      "needs_background": "light"
     },
     "output_type": "display_data"
    },
    {
     "data": {
      "image/png": "[encoded data removed]",
      "text/plain": [
       "<Figure size 432x288 with 1 Axes>"
      ]
     },
     "metadata": {
      "needs_background": "light"
     },
     "output_type": "display_data"
    }
   ],
   "source": [
    "model = MultinomialNB()\n",
    "model.fit(X_train_vectorized.toarray(), y_train)\n",
    "prediction = model.predict(X_test_vectorized.toarray())\n",
    "\n",
    "sns.heatmap(plot_classification_report(classification_report(y_test, prediction, output_dict=True)),\n",
    "            square=False, annot=True, cbar=False, cmap=\"YlGnBu\")\n",
    "plt.show()\n",
    "sns.heatmap(confusion_matrix(y_test, prediction), square=False, annot=True, cbar=False, cmap=\"YlGnBu\")\n",
    "plt.show()"
   ]
  },
  {
   "cell_type": "code",
   "execution_count": 11,
   "metadata": {},
   "outputs": [
    {
     "data": {
      "image/png": "[encoded data removed]",
      "text/plain": [
       "<Figure size 432x288 with 1 Axes>"
      ]
     },
     "metadata": {
      "needs_background": "light"
     },
     "output_type": "display_data"
    },
    {
     "data": {
      "image/png": "[encoded data removed]",
      "text/plain": [
       "<Figure size 432x288 with 1 Axes>"
      ]
     },
     "metadata": {
      "needs_background": "light"
     },
     "output_type": "display_data"
    }
   ],
   "source": [
    "model = DecisionTreeClassifier()\n",
    "model.fit(X_train_vectorized, y_train)\n",
    "prediction = model.predict(X_test_vectorized)\n",
    "\n",
    "sns.heatmap(plot_classification_report(classification_report(y_test, prediction, output_dict=True)),\n",
    "            square=False, annot=True, cbar=False, cmap=\"YlGnBu\")\n",
    "plt.show()\n",
    "sns.heatmap(confusion_matrix(y_test, prediction), square=False, annot=True, cbar=False, cmap=\"YlGnBu\")\n",
    "plt.show()"
   ]
  },
  {
   "cell_type": "code",
   "execution_count": 12,
   "metadata": {},
   "outputs": [
    {
     "name": "stderr",
     "output_type": "stream",
     "text": [
      "c:\\users\\yelzha\\appdata\\local\\programs\\python\\python37\\lib\\site-packages\\sklearn\\ensemble\\forest.py:246: FutureWarning: The default value of n_estimators will change from 10 in version 0.20 to 100 in 0.22.\n",
      "  \"10 in version 0.20 to 100 in 0.22.\", FutureWarning)\n"
     ]
    },
    {
     "data": {
      "image/png": "[encoded data removed]",
      "text/plain": [
       "<Figure size 432x288 with 1 Axes>"
      ]
     },
     "metadata": {
      "needs_background": "light"
     },
     "output_type": "display_data"
    },
    {
     "data": {
      "image/png": "[encoded data removed]",
      "text/plain": [
       "<Figure size 432x288 with 1 Axes>"
      ]
     },
     "metadata": {
      "needs_background": "light"
     },
     "output_type": "display_data"
    }
   ],
   "source": [
    "model = RandomForestClassifier()\n",
    "model.fit(X_train_vectorized, y_train)\n",
    "prediction = model.predict(X_test_vectorized)\n",
    "\n",
    "sns.heatmap(plot_classification_report(classification_report(y_test, prediction, output_dict=True)),\n",
    "            square=False, annot=True, cbar=False, cmap=\"YlGnBu\")\n",
    "plt.show()\n",
    "sns.heatmap(confusion_matrix(y_test, prediction), square=False, annot=True, cbar=False, cmap=\"YlGnBu\")\n",
    "plt.show()"
   ]
  },
  {
   "cell_type": "code",
   "execution_count": 13,
   "metadata": {},
   "outputs": [
    {
     "data": {
      "image/png": "[encoded data removed]",
      "text/plain": [
       "<Figure size 432x288 with 1 Axes>"
      ]
     },
     "metadata": {
      "needs_background": "light"
     },
     "output_type": "display_data"
    },
    {
     "data": {
      "image/png": "[encoded data removed]",
      "text/plain": [
       "<Figure size 432x288 with 1 Axes>"
      ]
     },
     "metadata": {
      "needs_background": "light"
     },
     "output_type": "display_data"
    }
   ],
   "source": [
    "model = BernoulliNB()\n",
    "model.fit(X_train_vectorized, y_train)\n",
    "prediction = model.predict(X_test_vectorized)\n",
    "\n",
    "sns.heatmap(plot_classification_report(classification_report(y_test, prediction, output_dict=True)),\n",
    "            square=False, annot=True, cbar=False, cmap=\"YlGnBu\")\n",
    "plt.show()\n",
    "sns.heatmap(confusion_matrix(y_test, prediction), square=False, annot=True, cbar=False, cmap=\"YlGnBu\")\n",
    "plt.show()"
   ]
  },
  {
   "cell_type": "markdown",
   "metadata": {},
   "source": [
    "### Testing VK dataset"
   ]
  },
  {
   "cell_type": "code",
   "execution_count": 14,
   "metadata": {},
   "outputs": [
    {
     "data": {
      "text/html": [
       "<div>\n",
       "<style scoped>\n",
       "    .dataframe tbody tr th:only-of-type {\n",
       "        vertical-align: middle;\n",
       "    }\n",
       "\n",
       "    .dataframe tbody tr th {\n",
       "        vertical-align: top;\n",
       "    }\n",
       "\n",
       "    .dataframe thead th {\n",
       "        text-align: right;\n",
       "    }\n",
       "</style>\n",
       "<table border=\"1\" class=\"dataframe\">\n",
       "  <thead>\n",
       "    <tr style=\"text-align: right;\">\n",
       "      <th></th>\n",
       "      <th>group_url</th>\n",
       "      <th>from_id</th>\n",
       "      <th>owner_id</th>\n",
       "      <th>text</th>\n",
       "    </tr>\n",
       "  </thead>\n",
       "  <tbody>\n",
       "    <tr>\n",
       "      <th>0</th>\n",
       "      <td>185127261</td>\n",
       "      <td>-185127261</td>\n",
       "      <td>-185127261</td>\n",
       "      <td>Житeльницa Вeликoбpитaнии пo имeни Лилит yвepя...</td>\n",
       "    </tr>\n",
       "    <tr>\n",
       "      <th>1</th>\n",
       "      <td>185127261</td>\n",
       "      <td>-185127261</td>\n",
       "      <td>-185127261</td>\n",
       "      <td>\"Pядoм c нeй былo мнoгo людeй, нo тaк никтo и ...</td>\n",
       "    </tr>\n",
       "    <tr>\n",
       "      <th>2</th>\n",
       "      <td>185127261</td>\n",
       "      <td>-185127261</td>\n",
       "      <td>-185127261</td>\n",
       "      <td>Житeльницa Кaлyги peшилa пocaдить дepeвья пoд ...</td>\n",
       "    </tr>\n",
       "    <tr>\n",
       "      <th>3</th>\n",
       "      <td>185127261</td>\n",
       "      <td>-185127261</td>\n",
       "      <td>-185127261</td>\n",
       "      <td>Пapeнь peшил yдивить дeвyшкy и cдeлaл opигинaл...</td>\n",
       "    </tr>\n",
       "    <tr>\n",
       "      <th>4</th>\n",
       "      <td>185127261</td>\n",
       "      <td>-185127261</td>\n",
       "      <td>-185127261</td>\n",
       "      <td>120 caнтимeтpoвaя Aлинa из Киeвa, нecмoтpя нa ...</td>\n",
       "    </tr>\n",
       "    <tr>\n",
       "      <th>...</th>\n",
       "      <td>...</td>\n",
       "      <td>...</td>\n",
       "      <td>...</td>\n",
       "      <td>...</td>\n",
       "    </tr>\n",
       "    <tr>\n",
       "      <th>14065</th>\n",
       "      <td>11369410</td>\n",
       "      <td>8271423</td>\n",
       "      <td>-11369410</td>\n",
       "      <td>ща я прибавлю людей)))</td>\n",
       "    </tr>\n",
       "    <tr>\n",
       "      <th>14066</th>\n",
       "      <td>11369410</td>\n",
       "      <td>27900559</td>\n",
       "      <td>-11369410</td>\n",
       "      <td>почему группа не развивается? зовите сюда прав...</td>\n",
       "    </tr>\n",
       "    <tr>\n",
       "      <th>14067</th>\n",
       "      <td>11369410</td>\n",
       "      <td>27900559</td>\n",
       "      <td>-11369410</td>\n",
       "      <td>?</td>\n",
       "    </tr>\n",
       "    <tr>\n",
       "      <th>14068</th>\n",
       "      <td>11369410</td>\n",
       "      <td>32250887</td>\n",
       "      <td>-11369410</td>\n",
       "      <td>Больше нихрена не умеешь, кроме как напоить...</td>\n",
       "    </tr>\n",
       "    <tr>\n",
       "      <th>14069</th>\n",
       "      <td>11369410</td>\n",
       "      <td>9389551</td>\n",
       "      <td>-11369410</td>\n",
       "      <td>Путь к сердцу мужчины лежит через его желудок....</td>\n",
       "    </tr>\n",
       "  </tbody>\n",
       "</table>\n",
       "<p>14070 rows × 4 columns</p>\n",
       "</div>"
      ],
      "text/plain": [
       "       group_url    from_id   owner_id  \\\n",
       "0      185127261 -185127261 -185127261   \n",
       "1      185127261 -185127261 -185127261   \n",
       "2      185127261 -185127261 -185127261   \n",
       "3      185127261 -185127261 -185127261   \n",
       "4      185127261 -185127261 -185127261   \n",
       "...          ...        ...        ...   \n",
       "14065   11369410    8271423  -11369410   \n",
       "14066   11369410   27900559  -11369410   \n",
       "14067   11369410   27900559  -11369410   \n",
       "14068   11369410   32250887  -11369410   \n",
       "14069   11369410    9389551  -11369410   \n",
       "\n",
       "                                                    text  \n",
       "0      Житeльницa Вeликoбpитaнии пo имeни Лилит yвepя...  \n",
       "1      \"Pядoм c нeй былo мнoгo людeй, нo тaк никтo и ...  \n",
       "2      Житeльницa Кaлyги peшилa пocaдить дepeвья пoд ...  \n",
       "3      Пapeнь peшил yдивить дeвyшкy и cдeлaл opигинaл...  \n",
       "4      120 caнтимeтpoвaя Aлинa из Киeвa, нecмoтpя нa ...  \n",
       "...                                                  ...  \n",
       "14065                             ща я прибавлю людей)))  \n",
       "14066  почему группа не развивается? зовите сюда прав...  \n",
       "14067                                                  ?  \n",
       "14068     Больше нихрена не умеешь, кроме как напоить...  \n",
       "14069  Путь к сердцу мужчины лежит через его желудок....  \n",
       "\n",
       "[14070 rows x 4 columns]"
      ]
     },
     "execution_count": 14,
     "metadata": {},
     "output_type": "execute_result"
    }
   ],
   "source": [
    "test = pd.read_csv('SemanticParsing/dataset/dataset20_01_21.csv', sep=';', encoding='utf8')\n",
    "test"
   ]
  },
  {
   "cell_type": "code",
   "execution_count": 15,
   "metadata": {},
   "outputs": [
    {
     "data": {
      "text/html": [
       "<div>\n",
       "<style scoped>\n",
       "    .dataframe tbody tr th:only-of-type {\n",
       "        vertical-align: middle;\n",
       "    }\n",
       "\n",
       "    .dataframe tbody tr th {\n",
       "        vertical-align: top;\n",
       "    }\n",
       "\n",
       "    .dataframe thead th {\n",
       "        text-align: right;\n",
       "    }\n",
       "</style>\n",
       "<table border=\"1\" class=\"dataframe\">\n",
       "  <thead>\n",
       "    <tr style=\"text-align: right;\">\n",
       "      <th></th>\n",
       "      <th>group_url</th>\n",
       "      <th>from_id</th>\n",
       "      <th>owner_id</th>\n",
       "      <th>text</th>\n",
       "    </tr>\n",
       "  </thead>\n",
       "  <tbody>\n",
       "    <tr>\n",
       "      <th>0</th>\n",
       "      <td>185127261</td>\n",
       "      <td>-185127261</td>\n",
       "      <td>-185127261</td>\n",
       "      <td>Житeльницa Вeликoбpитaнии пo имeни Лилит yвepя...</td>\n",
       "    </tr>\n",
       "    <tr>\n",
       "      <th>1</th>\n",
       "      <td>185127261</td>\n",
       "      <td>-185127261</td>\n",
       "      <td>-185127261</td>\n",
       "      <td>\"Pядoм c нeй былo мнoгo людeй, нo тaк никтo и ...</td>\n",
       "    </tr>\n",
       "    <tr>\n",
       "      <th>2</th>\n",
       "      <td>185127261</td>\n",
       "      <td>-185127261</td>\n",
       "      <td>-185127261</td>\n",
       "      <td>Житeльницa Кaлyги peшилa пocaдить дepeвья пoд ...</td>\n",
       "    </tr>\n",
       "    <tr>\n",
       "      <th>3</th>\n",
       "      <td>185127261</td>\n",
       "      <td>-185127261</td>\n",
       "      <td>-185127261</td>\n",
       "      <td>Пapeнь peшил yдивить дeвyшкy и cдeлaл opигинaл...</td>\n",
       "    </tr>\n",
       "    <tr>\n",
       "      <th>4</th>\n",
       "      <td>185127261</td>\n",
       "      <td>-185127261</td>\n",
       "      <td>-185127261</td>\n",
       "      <td>120 caнтимeтpoвaя Aлинa из Киeвa, нecмoтpя нa ...</td>\n",
       "    </tr>\n",
       "    <tr>\n",
       "      <th>...</th>\n",
       "      <td>...</td>\n",
       "      <td>...</td>\n",
       "      <td>...</td>\n",
       "      <td>...</td>\n",
       "    </tr>\n",
       "    <tr>\n",
       "      <th>14064</th>\n",
       "      <td>11369410</td>\n",
       "      <td>7818648</td>\n",
       "      <td>-11369410</td>\n",
       "      <td>если честно, меня ни разу не спаивали, если ко...</td>\n",
       "    </tr>\n",
       "    <tr>\n",
       "      <th>14065</th>\n",
       "      <td>11369410</td>\n",
       "      <td>8271423</td>\n",
       "      <td>-11369410</td>\n",
       "      <td>ща я прибавлю людей)))</td>\n",
       "    </tr>\n",
       "    <tr>\n",
       "      <th>14066</th>\n",
       "      <td>11369410</td>\n",
       "      <td>27900559</td>\n",
       "      <td>-11369410</td>\n",
       "      <td>почему группа не развивается? зовите сюда прав...</td>\n",
       "    </tr>\n",
       "    <tr>\n",
       "      <th>14068</th>\n",
       "      <td>11369410</td>\n",
       "      <td>32250887</td>\n",
       "      <td>-11369410</td>\n",
       "      <td>Больше нихрена не умеешь, кроме как напоить...</td>\n",
       "    </tr>\n",
       "    <tr>\n",
       "      <th>14069</th>\n",
       "      <td>11369410</td>\n",
       "      <td>9389551</td>\n",
       "      <td>-11369410</td>\n",
       "      <td>Путь к сердцу мужчины лежит через его желудок....</td>\n",
       "    </tr>\n",
       "  </tbody>\n",
       "</table>\n",
       "<p>9886 rows × 4 columns</p>\n",
       "</div>"
      ],
      "text/plain": [
       "       group_url    from_id   owner_id  \\\n",
       "0      185127261 -185127261 -185127261   \n",
       "1      185127261 -185127261 -185127261   \n",
       "2      185127261 -185127261 -185127261   \n",
       "3      185127261 -185127261 -185127261   \n",
       "4      185127261 -185127261 -185127261   \n",
       "...          ...        ...        ...   \n",
       "14064   11369410    7818648  -11369410   \n",
       "14065   11369410    8271423  -11369410   \n",
       "14066   11369410   27900559  -11369410   \n",
       "14068   11369410   32250887  -11369410   \n",
       "14069   11369410    9389551  -11369410   \n",
       "\n",
       "                                                    text  \n",
       "0      Житeльницa Вeликoбpитaнии пo имeни Лилит yвepя...  \n",
       "1      \"Pядoм c нeй былo мнoгo людeй, нo тaк никтo и ...  \n",
       "2      Житeльницa Кaлyги peшилa пocaдить дepeвья пoд ...  \n",
       "3      Пapeнь peшил yдивить дeвyшкy и cдeлaл opигинaл...  \n",
       "4      120 caнтимeтpoвaя Aлинa из Киeвa, нecмoтpя нa ...  \n",
       "...                                                  ...  \n",
       "14064  если честно, меня ни разу не спаивали, если ко...  \n",
       "14065                             ща я прибавлю людей)))  \n",
       "14066  почему группа не развивается? зовите сюда прав...  \n",
       "14068     Больше нихрена не умеешь, кроме как напоить...  \n",
       "14069  Путь к сердцу мужчины лежит через его желудок....  \n",
       "\n",
       "[9886 rows x 4 columns]"
      ]
     },
     "execution_count": 15,
     "metadata": {},
     "output_type": "execute_result"
    }
   ],
   "source": [
    "test = test.loc[test['text'][test['text'].apply(lambda x: len(str(x).split(' ')) > 2)].index]\n",
    "test"
   ]
  },
  {
   "cell_type": "code",
   "execution_count": 16,
   "metadata": {},
   "outputs": [
    {
     "data": {
      "text/html": [
       "<div>\n",
       "<style scoped>\n",
       "    .dataframe tbody tr th:only-of-type {\n",
       "        vertical-align: middle;\n",
       "    }\n",
       "\n",
       "    .dataframe tbody tr th {\n",
       "        vertical-align: top;\n",
       "    }\n",
       "\n",
       "    .dataframe thead th {\n",
       "        text-align: right;\n",
       "    }\n",
       "</style>\n",
       "<table border=\"1\" class=\"dataframe\">\n",
       "  <thead>\n",
       "    <tr style=\"text-align: right;\">\n",
       "      <th></th>\n",
       "      <th>group_url</th>\n",
       "      <th>from_id</th>\n",
       "      <th>owner_id</th>\n",
       "      <th>text</th>\n",
       "      <th>label</th>\n",
       "    </tr>\n",
       "  </thead>\n",
       "  <tbody>\n",
       "    <tr>\n",
       "      <th>0</th>\n",
       "      <td>185127261</td>\n",
       "      <td>-185127261</td>\n",
       "      <td>-185127261</td>\n",
       "      <td>Житeльницa Вeликoбpитaнии пo имeни Лилит yвepя...</td>\n",
       "      <td>Crime</td>\n",
       "    </tr>\n",
       "    <tr>\n",
       "      <th>1</th>\n",
       "      <td>185127261</td>\n",
       "      <td>-185127261</td>\n",
       "      <td>-185127261</td>\n",
       "      <td>\"Pядoм c нeй былo мнoгo людeй, нo тaк никтo и ...</td>\n",
       "      <td>Crime</td>\n",
       "    </tr>\n",
       "    <tr>\n",
       "      <th>2</th>\n",
       "      <td>185127261</td>\n",
       "      <td>-185127261</td>\n",
       "      <td>-185127261</td>\n",
       "      <td>Житeльницa Кaлyги peшилa пocaдить дepeвья пoд ...</td>\n",
       "      <td>Crime</td>\n",
       "    </tr>\n",
       "    <tr>\n",
       "      <th>3</th>\n",
       "      <td>185127261</td>\n",
       "      <td>-185127261</td>\n",
       "      <td>-185127261</td>\n",
       "      <td>Пapeнь peшил yдивить дeвyшкy и cдeлaл opигинaл...</td>\n",
       "      <td>Crime</td>\n",
       "    </tr>\n",
       "    <tr>\n",
       "      <th>4</th>\n",
       "      <td>185127261</td>\n",
       "      <td>-185127261</td>\n",
       "      <td>-185127261</td>\n",
       "      <td>120 caнтимeтpoвaя Aлинa из Киeвa, нecмoтpя нa ...</td>\n",
       "      <td>Crime</td>\n",
       "    </tr>\n",
       "    <tr>\n",
       "      <th>...</th>\n",
       "      <td>...</td>\n",
       "      <td>...</td>\n",
       "      <td>...</td>\n",
       "      <td>...</td>\n",
       "      <td>...</td>\n",
       "    </tr>\n",
       "    <tr>\n",
       "      <th>14064</th>\n",
       "      <td>11369410</td>\n",
       "      <td>7818648</td>\n",
       "      <td>-11369410</td>\n",
       "      <td>если честно, меня ни разу не спаивали, если ко...</td>\n",
       "      <td>Crime</td>\n",
       "    </tr>\n",
       "    <tr>\n",
       "      <th>14065</th>\n",
       "      <td>11369410</td>\n",
       "      <td>8271423</td>\n",
       "      <td>-11369410</td>\n",
       "      <td>ща я прибавлю людей)))</td>\n",
       "      <td>Crime</td>\n",
       "    </tr>\n",
       "    <tr>\n",
       "      <th>14066</th>\n",
       "      <td>11369410</td>\n",
       "      <td>27900559</td>\n",
       "      <td>-11369410</td>\n",
       "      <td>почему группа не развивается? зовите сюда прав...</td>\n",
       "      <td>Crime</td>\n",
       "    </tr>\n",
       "    <tr>\n",
       "      <th>14068</th>\n",
       "      <td>11369410</td>\n",
       "      <td>32250887</td>\n",
       "      <td>-11369410</td>\n",
       "      <td>Больше нихрена не умеешь, кроме как напоить...</td>\n",
       "      <td>Crime</td>\n",
       "    </tr>\n",
       "    <tr>\n",
       "      <th>14069</th>\n",
       "      <td>11369410</td>\n",
       "      <td>9389551</td>\n",
       "      <td>-11369410</td>\n",
       "      <td>Путь к сердцу мужчины лежит через его желудок....</td>\n",
       "      <td>Crime</td>\n",
       "    </tr>\n",
       "  </tbody>\n",
       "</table>\n",
       "<p>9886 rows × 5 columns</p>\n",
       "</div>"
      ],
      "text/plain": [
       "       group_url    from_id   owner_id  \\\n",
       "0      185127261 -185127261 -185127261   \n",
       "1      185127261 -185127261 -185127261   \n",
       "2      185127261 -185127261 -185127261   \n",
       "3      185127261 -185127261 -185127261   \n",
       "4      185127261 -185127261 -185127261   \n",
       "...          ...        ...        ...   \n",
       "14064   11369410    7818648  -11369410   \n",
       "14065   11369410    8271423  -11369410   \n",
       "14066   11369410   27900559  -11369410   \n",
       "14068   11369410   32250887  -11369410   \n",
       "14069   11369410    9389551  -11369410   \n",
       "\n",
       "                                                    text  label  \n",
       "0      Житeльницa Вeликoбpитaнии пo имeни Лилит yвepя...  Crime  \n",
       "1      \"Pядoм c нeй былo мнoгo людeй, нo тaк никтo и ...  Crime  \n",
       "2      Житeльницa Кaлyги peшилa пocaдить дepeвья пoд ...  Crime  \n",
       "3      Пapeнь peшил yдивить дeвyшкy и cдeлaл opигинaл...  Crime  \n",
       "4      120 caнтимeтpoвaя Aлинa из Киeвa, нecмoтpя нa ...  Crime  \n",
       "...                                                  ...    ...  \n",
       "14064  если честно, меня ни разу не спаивали, если ко...  Crime  \n",
       "14065                             ща я прибавлю людей)))  Crime  \n",
       "14066  почему группа не развивается? зовите сюда прав...  Crime  \n",
       "14068     Больше нихрена не умеешь, кроме как напоить...  Crime  \n",
       "14069  Путь к сердцу мужчины лежит через его желудок....  Crime  \n",
       "\n",
       "[9886 rows x 5 columns]"
      ]
     },
     "execution_count": 16,
     "metadata": {},
     "output_type": "execute_result"
    }
   ],
   "source": [
    "test['label'] = 'Crime'\n",
    "test"
   ]
  },
  {
   "cell_type": "code",
   "execution_count": 17,
   "metadata": {},
   "outputs": [
    {
     "data": {
      "text/html": [
       "<div>\n",
       "<style scoped>\n",
       "    .dataframe tbody tr th:only-of-type {\n",
       "        vertical-align: middle;\n",
       "    }\n",
       "\n",
       "    .dataframe tbody tr th {\n",
       "        vertical-align: top;\n",
       "    }\n",
       "\n",
       "    .dataframe thead th {\n",
       "        text-align: right;\n",
       "    }\n",
       "</style>\n",
       "<table border=\"1\" class=\"dataframe\">\n",
       "  <thead>\n",
       "    <tr style=\"text-align: right;\">\n",
       "      <th></th>\n",
       "      <th>text</th>\n",
       "      <th>label</th>\n",
       "    </tr>\n",
       "  </thead>\n",
       "  <tbody>\n",
       "    <tr>\n",
       "      <th>0</th>\n",
       "      <td>Она ушла от мужа. Он убил их детей. Еще один д...</td>\n",
       "      <td>Crime</td>\n",
       "    </tr>\n",
       "    <tr>\n",
       "      <th>1</th>\n",
       "      <td>Государственные обвинители говорят, что почти ...</td>\n",
       "      <td>Crime</td>\n",
       "    </tr>\n",
       "    <tr>\n",
       "      <th>2</th>\n",
       "      <td>«Мы думали, что умрем», - сказал один из студе...</td>\n",
       "      <td>Crime</td>\n",
       "    </tr>\n",
       "    <tr>\n",
       "      <th>3</th>\n",
       "      <td>По данным полиции, подозреваемый был задержан ...</td>\n",
       "      <td>Crime</td>\n",
       "    </tr>\n",
       "    <tr>\n",
       "      <th>4</th>\n",
       "      <td>Пострадавшие, которые теперь уже взрослые, был...</td>\n",
       "      <td>Crime</td>\n",
       "    </tr>\n",
       "    <tr>\n",
       "      <th>...</th>\n",
       "      <td>...</td>\n",
       "      <td>...</td>\n",
       "    </tr>\n",
       "    <tr>\n",
       "      <th>14064</th>\n",
       "      <td>если честно, меня ни разу не спаивали, если ко...</td>\n",
       "      <td>Crime</td>\n",
       "    </tr>\n",
       "    <tr>\n",
       "      <th>14065</th>\n",
       "      <td>ща я прибавлю людей)))</td>\n",
       "      <td>Crime</td>\n",
       "    </tr>\n",
       "    <tr>\n",
       "      <th>14066</th>\n",
       "      <td>почему группа не развивается? зовите сюда прав...</td>\n",
       "      <td>Crime</td>\n",
       "    </tr>\n",
       "    <tr>\n",
       "      <th>14068</th>\n",
       "      <td>Больше нихрена не умеешь, кроме как напоить...</td>\n",
       "      <td>Crime</td>\n",
       "    </tr>\n",
       "    <tr>\n",
       "      <th>14069</th>\n",
       "      <td>Путь к сердцу мужчины лежит через его желудок....</td>\n",
       "      <td>Crime</td>\n",
       "    </tr>\n",
       "  </tbody>\n",
       "</table>\n",
       "<p>15972 rows × 2 columns</p>\n",
       "</div>"
      ],
      "text/plain": [
       "                                                    text  label\n",
       "0      Она ушла от мужа. Он убил их детей. Еще один д...  Crime\n",
       "1      Государственные обвинители говорят, что почти ...  Crime\n",
       "2      «Мы думали, что умрем», - сказал один из студе...  Crime\n",
       "3      По данным полиции, подозреваемый был задержан ...  Crime\n",
       "4      Пострадавшие, которые теперь уже взрослые, был...  Crime\n",
       "...                                                  ...    ...\n",
       "14064  если честно, меня ни разу не спаивали, если ко...  Crime\n",
       "14065                             ща я прибавлю людей)))  Crime\n",
       "14066  почему группа не развивается? зовите сюда прав...  Crime\n",
       "14068     Больше нихрена не умеешь, кроме как напоить...  Crime\n",
       "14069  Путь к сердцу мужчины лежит через его желудок....  Crime\n",
       "\n",
       "[15972 rows x 2 columns]"
      ]
     },
     "execution_count": 17,
     "metadata": {},
     "output_type": "execute_result"
    }
   ],
   "source": [
    "testing_data = pd.concat([df, test.iloc[:, 3:]])\n",
    "testing_data"
   ]
  },
  {
   "cell_type": "code",
   "execution_count": 18,
   "metadata": {},
   "outputs": [
    {
     "data": {
      "text/html": [
       "<div>\n",
       "<style scoped>\n",
       "    .dataframe tbody tr th:only-of-type {\n",
       "        vertical-align: middle;\n",
       "    }\n",
       "\n",
       "    .dataframe tbody tr th {\n",
       "        vertical-align: top;\n",
       "    }\n",
       "\n",
       "    .dataframe thead th {\n",
       "        text-align: right;\n",
       "    }\n",
       "</style>\n",
       "<table border=\"1\" class=\"dataframe\">\n",
       "  <thead>\n",
       "    <tr style=\"text-align: right;\">\n",
       "      <th></th>\n",
       "      <th>text</th>\n",
       "      <th>label</th>\n",
       "    </tr>\n",
       "  </thead>\n",
       "  <tbody>\n",
       "    <tr>\n",
       "      <th>0</th>\n",
       "      <td>Она ушла от мужа. Он убил их детей. Еще один д...</td>\n",
       "      <td>Crime</td>\n",
       "    </tr>\n",
       "    <tr>\n",
       "      <th>1</th>\n",
       "      <td>Государственные обвинители говорят, что почти ...</td>\n",
       "      <td>Crime</td>\n",
       "    </tr>\n",
       "    <tr>\n",
       "      <th>2</th>\n",
       "      <td>«Мы думали, что умрем», - сказал один из студе...</td>\n",
       "      <td>Crime</td>\n",
       "    </tr>\n",
       "    <tr>\n",
       "      <th>3</th>\n",
       "      <td>По данным полиции, подозреваемый был задержан ...</td>\n",
       "      <td>Crime</td>\n",
       "    </tr>\n",
       "    <tr>\n",
       "      <th>4</th>\n",
       "      <td>Пострадавшие, которые теперь уже взрослые, был...</td>\n",
       "      <td>Crime</td>\n",
       "    </tr>\n",
       "    <tr>\n",
       "      <th>...</th>\n",
       "      <td>...</td>\n",
       "      <td>...</td>\n",
       "    </tr>\n",
       "    <tr>\n",
       "      <th>14064</th>\n",
       "      <td>если честно, меня ни разу не спаивали, если ко...</td>\n",
       "      <td>Crime</td>\n",
       "    </tr>\n",
       "    <tr>\n",
       "      <th>14065</th>\n",
       "      <td>ща я прибавлю людей)))</td>\n",
       "      <td>Crime</td>\n",
       "    </tr>\n",
       "    <tr>\n",
       "      <th>14066</th>\n",
       "      <td>почему группа не развивается? зовите сюда прав...</td>\n",
       "      <td>Crime</td>\n",
       "    </tr>\n",
       "    <tr>\n",
       "      <th>14068</th>\n",
       "      <td>Больше нихрена не умеешь, кроме как напоить...</td>\n",
       "      <td>Crime</td>\n",
       "    </tr>\n",
       "    <tr>\n",
       "      <th>14069</th>\n",
       "      <td>Путь к сердцу мужчины лежит через его желудок....</td>\n",
       "      <td>Crime</td>\n",
       "    </tr>\n",
       "  </tbody>\n",
       "</table>\n",
       "<p>12561 rows × 2 columns</p>\n",
       "</div>"
      ],
      "text/plain": [
       "                                                    text  label\n",
       "0      Она ушла от мужа. Он убил их детей. Еще один д...  Crime\n",
       "1      Государственные обвинители говорят, что почти ...  Crime\n",
       "2      «Мы думали, что умрем», - сказал один из студе...  Crime\n",
       "3      По данным полиции, подозреваемый был задержан ...  Crime\n",
       "4      Пострадавшие, которые теперь уже взрослые, был...  Crime\n",
       "...                                                  ...    ...\n",
       "14064  если честно, меня ни разу не спаивали, если ко...  Crime\n",
       "14065                             ща я прибавлю людей)))  Crime\n",
       "14066  почему группа не развивается? зовите сюда прав...  Crime\n",
       "14068     Больше нихрена не умеешь, кроме как напоить...  Crime\n",
       "14069  Путь к сердцу мужчины лежит через его желудок....  Crime\n",
       "\n",
       "[12561 rows x 2 columns]"
      ]
     },
     "execution_count": 18,
     "metadata": {},
     "output_type": "execute_result"
    }
   ],
   "source": [
    "testing_data[testing_data.label == 'Crime']"
   ]
  },
  {
   "cell_type": "code",
   "execution_count": null,
   "metadata": {},
   "outputs": [],
   "source": []
  },
  {
   "cell_type": "code",
   "execution_count": 19,
   "metadata": {},
   "outputs": [
    {
     "data": {
      "text/html": [
       "<div>\n",
       "<style scoped>\n",
       "    .dataframe tbody tr th:only-of-type {\n",
       "        vertical-align: middle;\n",
       "    }\n",
       "\n",
       "    .dataframe tbody tr th {\n",
       "        vertical-align: top;\n",
       "    }\n",
       "\n",
       "    .dataframe thead th {\n",
       "        text-align: right;\n",
       "    }\n",
       "</style>\n",
       "<table border=\"1\" class=\"dataframe\">\n",
       "  <thead>\n",
       "    <tr style=\"text-align: right;\">\n",
       "      <th></th>\n",
       "      <th>text</th>\n",
       "      <th>label</th>\n",
       "    </tr>\n",
       "  </thead>\n",
       "  <tbody>\n",
       "    <tr>\n",
       "      <th>0</th>\n",
       "      <td>Она ушла от мужа. Он убил их детей. Еще один д...</td>\n",
       "      <td>Crime</td>\n",
       "    </tr>\n",
       "    <tr>\n",
       "      <th>1</th>\n",
       "      <td>Государственные обвинители говорят, что почти ...</td>\n",
       "      <td>Crime</td>\n",
       "    </tr>\n",
       "    <tr>\n",
       "      <th>2</th>\n",
       "      <td>«Мы думали, что умрем», - сказал один из студе...</td>\n",
       "      <td>Crime</td>\n",
       "    </tr>\n",
       "    <tr>\n",
       "      <th>3</th>\n",
       "      <td>По данным полиции, подозреваемый был задержан ...</td>\n",
       "      <td>Crime</td>\n",
       "    </tr>\n",
       "    <tr>\n",
       "      <th>4</th>\n",
       "      <td>Пострадавшие, которые теперь уже взрослые, был...</td>\n",
       "      <td>Crime</td>\n",
       "    </tr>\n",
       "    <tr>\n",
       "      <th>...</th>\n",
       "      <td>...</td>\n",
       "      <td>...</td>\n",
       "    </tr>\n",
       "    <tr>\n",
       "      <th>3406</th>\n",
       "      <td>Свадебные планы - это общение. Доставать госте...</td>\n",
       "      <td>NotCrime</td>\n",
       "    </tr>\n",
       "    <tr>\n",
       "      <th>3407</th>\n",
       "      <td>Сегодня доступно множество различных продуктов...</td>\n",
       "      <td>NotCrime</td>\n",
       "    </tr>\n",
       "    <tr>\n",
       "      <th>3408</th>\n",
       "      <td>Комфортная итальянская еда Сандро отражает усп...</td>\n",
       "      <td>NotCrime</td>\n",
       "    </tr>\n",
       "    <tr>\n",
       "      <th>3409</th>\n",
       "      <td>Кто из вас подумает о том, чтобы поделиться те...</td>\n",
       "      <td>NotCrime</td>\n",
       "    </tr>\n",
       "    <tr>\n",
       "      <th>3410</th>\n",
       "      <td>«« Я буду вечно благодарен 11 мужчинам и одной...</td>\n",
       "      <td>NotCrime</td>\n",
       "    </tr>\n",
       "  </tbody>\n",
       "</table>\n",
       "<p>19383 rows × 2 columns</p>\n",
       "</div>"
      ],
      "text/plain": [
       "                                                   text     label\n",
       "0     Она ушла от мужа. Он убил их детей. Еще один д...     Crime\n",
       "1     Государственные обвинители говорят, что почти ...     Crime\n",
       "2     «Мы думали, что умрем», - сказал один из студе...     Crime\n",
       "3     По данным полиции, подозреваемый был задержан ...     Crime\n",
       "4     Пострадавшие, которые теперь уже взрослые, был...     Crime\n",
       "...                                                 ...       ...\n",
       "3406  Свадебные планы - это общение. Доставать госте...  NotCrime\n",
       "3407  Сегодня доступно множество различных продуктов...  NotCrime\n",
       "3408  Комфортная итальянская еда Сандро отражает усп...  NotCrime\n",
       "3409  Кто из вас подумает о том, чтобы поделиться те...  NotCrime\n",
       "3410  «« Я буду вечно благодарен 11 мужчинам и одной...  NotCrime\n",
       "\n",
       "[19383 rows x 2 columns]"
      ]
     },
     "execution_count": 19,
     "metadata": {},
     "output_type": "execute_result"
    }
   ],
   "source": [
    "testing_data = pd.concat([testing_data[testing_data.label == 'Crime'], \n",
    "                          pd.concat([testing_data[testing_data.label != 'Crime'], \n",
    "                                     testing_data[testing_data.label != 'Crime']], ignore_index =False)])\n",
    "\n",
    "testing_data"
   ]
  },
  {
   "cell_type": "code",
   "execution_count": 20,
   "metadata": {},
   "outputs": [
    {
     "data": {
      "text/plain": [
       "(15506,)"
      ]
     },
     "execution_count": 20,
     "metadata": {},
     "output_type": "execute_result"
    }
   ],
   "source": [
    "X_train, X_test, y_train, y_test = train_test_split(testing_data['text'], testing_data['label'], random_state=40, test_size = 0.2)\n",
    "X_train.shape"
   ]
  },
  {
   "cell_type": "code",
   "execution_count": 21,
   "metadata": {},
   "outputs": [],
   "source": [
    "vectorizer = TfidfVectorizer(lowercase=True, max_df=0.1, min_df=0.0004)\n",
    "X_train_vectorized = vectorizer.fit_transform(X_train)\n",
    "X_test_vectorized = vectorizer.transform(X_test)"
   ]
  },
  {
   "cell_type": "code",
   "execution_count": 22,
   "metadata": {},
   "outputs": [
    {
     "name": "stderr",
     "output_type": "stream",
     "text": [
      "c:\\users\\yelzha\\appdata\\local\\programs\\python\\python37\\lib\\site-packages\\sklearn\\linear_model\\logistic.py:433: FutureWarning: Default solver will be changed to 'lbfgs' in 0.22. Specify a solver to silence this warning.\n",
      "  FutureWarning)\n"
     ]
    }
   ],
   "source": [
    "model = LogisticRegression()\n",
    "model.fit(X_train_vectorized, y_train)\n",
    "prediction = model.predict(X_test_vectorized)"
   ]
  },
  {
   "cell_type": "code",
   "execution_count": 23,
   "metadata": {},
   "outputs": [
    {
     "data": {
      "image/png": "[encoded data removed]",
      "text/plain": [
       "<Figure size 432x288 with 1 Axes>"
      ]
     },
     "metadata": {
      "needs_background": "light"
     },
     "output_type": "display_data"
    },
    {
     "data": {
      "image/png": "[encoded data removed]",
      "text/plain": [
       "<Figure size 432x288 with 1 Axes>"
      ]
     },
     "metadata": {
      "needs_background": "light"
     },
     "output_type": "display_data"
    }
   ],
   "source": [
    "sns.heatmap(plot_classification_report(classification_report(y_test, prediction, output_dict=True)),\n",
    "            square=False, annot=True, cbar=False, cmap=\"YlGnBu\")\n",
    "plt.show()\n",
    "sns.heatmap(confusion_matrix(y_test, prediction), square=False, annot=True, cbar=False, cmap=\"YlGnBu\")\n",
    "plt.show()"
   ]
  },
  {
   "cell_type": "code",
   "execution_count": 26,
   "metadata": {},
   "outputs": [
    {
     "data": {
      "text/plain": [
       "0        Житeльницa Вeликoбpитaнии пo имeни Лилит yвepя...\n",
       "1        \"Pядoм c нeй былo мнoгo людeй, нo тaк никтo и ...\n",
       "2        Житeльницa Кaлyги peшилa пocaдить дepeвья пoд ...\n",
       "3        Пapeнь peшил yдивить дeвyшкy и cдeлaл opигинaл...\n",
       "4        120 caнтимeтpoвaя Aлинa из Киeвa, нecмoтpя нa ...\n",
       "                               ...                        \n",
       "14064    если честно, меня ни разу не спаивали, если ко...\n",
       "14065                               ща я прибавлю людей)))\n",
       "14066    почему группа не развивается? зовите сюда прав...\n",
       "14068       Больше нихрена не умеешь, кроме как напоить...\n",
       "14069    Путь к сердцу мужчины лежит через его желудок....\n",
       "Name: text, Length: 9886, dtype: object"
      ]
     },
     "execution_count": 26,
     "metadata": {},
     "output_type": "execute_result"
    }
   ],
   "source": [
    "test.text"
   ]
  },
  {
   "cell_type": "code",
   "execution_count": 31,
   "metadata": {},
   "outputs": [],
   "source": [
    "test[['Crime', 'NotCrime']] = np.round(model.predict_proba(vectorizer.transform(test.text)),2)*100"
   ]
  },
  {
   "cell_type": "code",
   "execution_count": 33,
   "metadata": {},
   "outputs": [],
   "source": [
    "test.to_csv('resulted_data.csv', index=False)"
   ]
  },
  {
   "cell_type": "code",
   "execution_count": null,
   "metadata": {},
   "outputs": [],
   "source": []
  }
 ],
 "metadata": {
  "kernelspec": {
   "display_name": "Python 3",
   "language": "python",
   "name": "python3"
  },
  "language_info": {
   "codemirror_mode": {
    "name": "ipython",
    "version": 3
   },
   "file_extension": ".py",
   "mimetype": "text/x-python",
   "name": "python",
   "nbconvert_exporter": "python",
   "pygments_lexer": "ipython3",
   "version": "3.7.7"
  },
  "toc": {
   "base_numbering": 1,
   "nav_menu": {},
   "number_sections": true,
   "sideBar": true,
   "skip_h1_title": false,
   "title_cell": "Table of Contents",
   "title_sidebar": "Contents",
   "toc_cell": false,
   "toc_position": {},
   "toc_section_display": true,
   "toc_window_display": false
  }
 },
 "nbformat": 4,
 "nbformat_minor": 4
}
